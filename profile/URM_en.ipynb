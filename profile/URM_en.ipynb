{
 "cells": [
  {
   "cell_type": "markdown",
   "metadata": {
    "id": "A4FIw_NUWqof"
   },
   "source": [
    "<H1><b>Unlimited Register Machine</b></H1>"
   ]
  },
  {
   "cell_type": "markdown",
   "metadata": {
    "id": "RuOx--NUXpYu"
   },
   "source": [
    "# Machine"
   ]
  },
  {
   "cell_type": "markdown",
   "metadata": {
    "id": "gjK3-vxAW37K"
   },
   "source": [
    "## Structure"
   ]
  },
  {
   "cell_type": "code",
   "execution_count": 1,
   "metadata": {
    "executionInfo": {
     "elapsed": 47,
     "status": "ok",
     "timestamp": 1701755870892,
     "user": {
      "displayName": "Grygoriy Zholtkevych",
      "userId": "07237219969218717576"
     },
     "user_tz": -120
    },
    "id": "_IHLAr4oXnnl"
   },
   "outputs": [],
   "source": [
    "control = None  # refers to a URM-program\n",
    "memory  = None  # refers to the used memory\n",
    "arity   = None  # refers to the input size"
   ]
  },
  {
   "cell_type": "markdown",
   "metadata": {
    "id": "jbEOwXCpW7fY"
   },
   "source": [
    "## Instructions"
   ]
  },
  {
   "cell_type": "code",
   "execution_count": 2,
   "metadata": {
    "executionInfo": {
     "elapsed": 45,
     "status": "ok",
     "timestamp": 1701755870893,
     "user": {
      "displayName": "Grygoriy Zholtkevych",
      "userId": "07237219969218717576"
     },
     "user_tz": -120
    },
    "id": "Ugv7o7bcNc2O"
   },
   "outputs": [],
   "source": [
    "def Z(operand, line):\n",
    "    # Z instruction\n",
    "    global memory\n",
    "    memory[operand] = 0\n",
    "    return line + 1\n",
    "\n",
    "\n",
    "def S(operand, line):\n",
    "    # S instruction\n",
    "    global memory\n",
    "    memory[operand] += 1\n",
    "    return line + 1\n",
    "\n",
    "\n",
    "def C(operand1, operand2, line):\n",
    "    # C instruction\n",
    "    global memory\n",
    "    memory[operand2] = memory[operand1]\n",
    "    return line + 1\n",
    "\n",
    "\n",
    "def J(operand1, operand2, operand3, line):\n",
    "    # J instruction\n",
    "    global memory\n",
    "    if memory[operand1] == memory[operand2]:\n",
    "        return operand3\n",
    "    else:\n",
    "        return line + 1"
   ]
  },
  {
   "cell_type": "markdown",
   "metadata": {
    "id": "ODFnLDKiUeCx"
   },
   "source": [
    "## Program Compiling"
   ]
  },
  {
   "cell_type": "markdown",
   "metadata": {
    "id": "n685VASNs4P2"
   },
   "source": [
    "`Z(n)`       is represented by `(0, n)`<br/>\n",
    "`S(n)`       is represented by `(1, n)`<br/>\n",
    "`C(n, m)`    is represented by `(2, n, m)`<br/>\n",
    "`J(n, m, q)` is represented by `(3, n, m, q)`"
   ]
  },
  {
   "cell_type": "code",
   "execution_count": 3,
   "metadata": {
    "executionInfo": {
     "elapsed": 44,
     "status": "ok",
     "timestamp": 1701755870893,
     "user": {
      "displayName": "Grygoriy Zholtkevych",
      "userId": "07237219969218717576"
     },
     "user_tz": -120
    },
    "id": "B_MLp3y8Q9y3"
   },
   "outputs": [],
   "source": [
    "def compile(text):\n",
    "    ok = isinstance(text, str)\n",
    "    if not ok:\n",
    "        raise ValueError(\"invalid program\")\n",
    "    def parse_line(line):\n",
    "        \"\"\"returns the instruction representation if 'line' is correct\n",
    "        instruction and None otherwise\"\"\"\n",
    "        cmd, _, line = line.partition('(')\n",
    "        if cmd == 'Z' or cmd == 'S':\n",
    "            operand, _, line = line.partition(')')\n",
    "            try:\n",
    "                operand = int(operand)\n",
    "            except ValueError:\n",
    "                return None\n",
    "            return ((0 if cmd == 'Z' else 1, operand) if\n",
    "                    operand >= 0 else None)\n",
    "        elif cmd == 'C':\n",
    "            try:\n",
    "                operand, _, line = line.partition(',')\n",
    "                operand1 = int(operand)\n",
    "                operand, _, line = line.partition(')')\n",
    "                operand2 = int(operand)\n",
    "            except ValueError:\n",
    "                return None\n",
    "            return ((2, operand1, operand2) if\n",
    "                    operand1 >= 0 and operand2 >= 0 else\n",
    "                    None)\n",
    "        elif cmd == 'J':\n",
    "            try:\n",
    "                operand, _, line = line.partition(',')\n",
    "                operand1 = int(operand)\n",
    "                operand, _, line = line.partition(',')\n",
    "                operand2 = int(operand)\n",
    "                operand, _, line = line.partition(')')\n",
    "                operand3 = int(operand)\n",
    "            except ValueError:\n",
    "                return None\n",
    "            return ((3, operand1, operand2, operand3) if\n",
    "                    operand1 >= 0 and operand2 >= 0 and operand3 >= 0 else\n",
    "                    None)\n",
    "        else:  # unrecognized instruction\n",
    "            return None\n",
    "    # main function\n",
    "    #\n",
    "    # split text into list of lines\n",
    "    lines = text.split('\\n')\n",
    "    # remove heading and tailing whitespaces in each line\n",
    "    lines = [line.strip() for line in lines]\n",
    "    # remove empty lines\n",
    "    lines = [line for line in lines if line]\n",
    "    # parsing each line\n",
    "    program = [parse_line(line) for line in lines]\n",
    "    # search error in the program\n",
    "    errors = [None for item in program if item is None]\n",
    "    if errors:  # program has errors\n",
    "        raise ValueError(\"invalid program\")\n",
    "    return program"
   ]
  },
  {
   "cell_type": "markdown",
   "metadata": {
    "id": "O7mHAgHzXOu8"
   },
   "source": [
    "## Program Loading"
   ]
  },
  {
   "cell_type": "code",
   "execution_count": 4,
   "metadata": {
    "executionInfo": {
     "elapsed": 42,
     "status": "ok",
     "timestamp": 1701755870893,
     "user": {
      "displayName": "Grygoriy Zholtkevych",
      "userId": "07237219969218717576"
     },
     "user_tz": -120
    },
    "id": "2Zi27iCFXWsw"
   },
   "outputs": [],
   "source": [
    "def load(code, input_size):\n",
    "    global memory, control, arity\n",
    "    ok = isinstance(code, list)\n",
    "    if not ok:\n",
    "        raise ValueError(\"invalid code\")\n",
    "    ok = all(map(isinstance, code, len(code) * [tuple]))\n",
    "    if not ok:\n",
    "        raise ValueError(\"invalid code\")\n",
    "    ok = isinstance(input_size, int) and input_size >= 1\n",
    "    if not ok:\n",
    "        raise ValueError(\"invalid input size\")\n",
    "    high_memory_address = input_size\n",
    "    for item in code:\n",
    "        if (len(item) == 2 and\n",
    "            (item[0] == 0 or item[0] == 1) and\n",
    "            isinstance(item[1], int) and item[1] >= 0):\n",
    "            high_memory_address = max(high_memory_address, item[1])\n",
    "        elif (len(item) == 3 and item[0] == 2 and\n",
    "              isinstance(item[1], int) and item[1] >= 0 and\n",
    "              isinstance(item[2], int) and item[2] >= 0):\n",
    "            high_memory_address = max(high_memory_address, item[1], item[2])\n",
    "        elif (len(item) == 4 and item[0] == 3 and\n",
    "              isinstance(item[1], int) and item[1] >= 0 and\n",
    "              isinstance(item[2], int) and item[2] >= 0 and\n",
    "              isinstance(item[3], int) and item[3] >= 0):\n",
    "            high_memory_address = max(high_memory_address, item[1], item[2])\n",
    "        else:\n",
    "            raise ValueError(\"invalid code\")\n",
    "    memory = dict([(n, 0) for n in range(high_memory_address + 1)])\n",
    "    control = code\n",
    "    arity = input_size\n"
   ]
  },
  {
   "cell_type": "markdown",
   "metadata": {
    "id": "iA-_HgZgianf"
   },
   "source": [
    "## Program Performing"
   ]
  },
  {
   "cell_type": "code",
   "execution_count": 5,
   "metadata": {
    "executionInfo": {
     "elapsed": 40,
     "status": "ok",
     "timestamp": 1701755870893,
     "user": {
      "displayName": "Grygoriy Zholtkevych",
      "userId": "07237219969218717576"
     },
     "user_tz": -120
    },
    "id": "I1qVyatlifKh"
   },
   "outputs": [],
   "source": [
    "def run(*args):\n",
    "    global memory, control, arity\n",
    "    if control is None:\n",
    "        raise ValueError(\"the program for running is not loaded\")\n",
    "    ok = len(args) == arity\n",
    "    if not ok:\n",
    "        raise ValueError(\"invalid number of arguments\")\n",
    "    ok = all(map(lambda x: isinstance(x, int) and x >= 0, args))\n",
    "    if not ok:\n",
    "        raise ValueError(\"invalid arguments\")\n",
    "    for k in memory:\n",
    "        memory[k] = args[k - 1] if 1 <= k <= arity else 0\n",
    "    ic = 1\n",
    "    while ic >= 1:\n",
    "        try:\n",
    "            item = control[ic - 1]\n",
    "            if item[0] == 0:\n",
    "                ic = Z(item[1], ic)\n",
    "            elif item[0] == 1:\n",
    "                ic = S(item[1], ic)\n",
    "            elif item[0] == 2:\n",
    "                ic = C(item[1], item[2], ic)\n",
    "            else:  # item[0] == 3\n",
    "                ic = J(item[1], item[2], item[3], ic)\n",
    "        except IndexError:\n",
    "            break\n",
    "    return memory[0]"
   ]
  },
  {
   "cell_type": "code",
   "execution_count": 6,
   "metadata": {
    "colab": {
     "base_uri": "https://localhost:8080/"
    },
    "executionInfo": {
     "elapsed": 35,
     "status": "ok",
     "timestamp": 1701755870893,
     "user": {
      "displayName": "Grygoriy Zholtkevych",
      "userId": "07237219969218717576"
     },
     "user_tz": -120
    },
    "id": "SGYEBczLqF-8",
    "outputId": "42da9cfe-f173-4e97-e8f8-aec21a9b5847"
   },
   "outputs": [
    {
     "name": "stdout",
     "output_type": "stream",
     "text": [
      "5 + 25 = 30\n"
     ]
    }
   ],
   "source": [
    "# @title Computing the sum of n and m\n",
    "n = 5 # @param {type:\"integer\"}\n",
    "m = 25 # @param {type:\"integer\"}\n",
    "\n",
    "if n < 0:\n",
    "    print(\"Error: n is negative\")\n",
    "elif m < 0:\n",
    "    print(\"Error: m is negative\")\n",
    "else:\n",
    "    code = compile(\"\"\"\n",
    "    C(2,0)\n",
    "    Z(2)\n",
    "    J(1,2,0)\n",
    "        S(0)\n",
    "        S(2)\n",
    "    J(0,0,3)\n",
    "    \"\"\")\n",
    "    load(code, 2)\n",
    "    print(f\"{n} + {m} = {run(n, m)}\")"
   ]
  },
  {
   "cell_type": "code",
   "execution_count": 7,
   "metadata": {
    "colab": {
     "base_uri": "https://localhost:8080/"
    },
    "executionInfo": {
     "elapsed": 27,
     "status": "ok",
     "timestamp": 1701755870894,
     "user": {
      "displayName": "Grygoriy Zholtkevych",
      "userId": "07237219969218717576"
     },
     "user_tz": -120
    },
    "id": "VVXpGNVuFGlj",
    "outputId": "9b312d36-0d29-4fd0-afd5-cd20e5416d4a"
   },
   "outputs": [
    {
     "name": "stdout",
     "output_type": "stream",
     "text": [
      "fibb(0)  = 0\n",
      "fibb(1)  = 1\n",
      "fibb(2)  = 1\n",
      "fibb(3)  = 2\n",
      "fibb(4)  = 3\n",
      "fibb(5)  = 5\n",
      "fibb(6)  = 8\n",
      "fibb(7)  = 13\n",
      "fibb(8)  = 21\n",
      "fibb(9)  = 34\n",
      "fibb(10) = 55\n",
      "fibb(11) = 89\n",
      "fibb(12) = 144\n",
      "fibb(13) = 233\n",
      "fibb(14) = 377\n",
      "fibb(15) = 610\n",
      "fibb(16) = 987\n",
      "fibb(17) = 1597\n",
      "fibb(18) = 2584\n",
      "fibb(19) = 4181\n"
     ]
    }
   ],
   "source": [
    "# @title Computing Fibonacci Series\n",
    "length_of_series = 20 # @param {type:\"integer\"}\n",
    "\n",
    "if length_of_series < 0:\n",
    "    print(\"Error: length of series should be nonnegative\")\n",
    "elif length_of_series == 0:\n",
    "    print(\"Nothing\")\n",
    "else:\n",
    "    code = compile(\"\"\"\n",
    "    J(1,3,0)\n",
    "    S(0)\n",
    "    S(3)\n",
    "    J(1,3,0)\n",
    "        C(0,4)\n",
    "        J(5,2,10)\n",
    "        S(0)\n",
    "        S(5)\n",
    "    J(0,0,6)\n",
    "    Z(5)\n",
    "    C(4,2)\n",
    "    S(3)\n",
    "    J(0,0,4)\n",
    "    \"\"\")\n",
    "load(code,1)\n",
    "for k in range(length_of_series):\n",
    "    print(f\"{'fibb(' + str(k) + ')':8} = {run(k)}\")"
   ]
  },
  {
   "cell_type": "code",
   "execution_count": 8,
   "metadata": {
    "colab": {
     "base_uri": "https://localhost:8080/"
    },
    "executionInfo": {
     "elapsed": 24,
     "status": "ok",
     "timestamp": 1701755870894,
     "user": {
      "displayName": "Grygoriy Zholtkevych",
      "userId": "07237219969218717576"
     },
     "user_tz": -120
    },
    "id": "uv41WTNF6sPA",
    "outputId": "ec225e87-b035-43ea-c681-a206157ed150"
   },
   "outputs": [
    {
     "name": "stdout",
     "output_type": "stream",
     "text": [
      "x =  0 and pred(x) =  0\n",
      "x =  1 and pred(x) =  0\n",
      "x =  2 and pred(x) =  1\n",
      "x =  3 and pred(x) =  2\n",
      "x =  4 and pred(x) =  3\n",
      "x =  5 and pred(x) =  4\n",
      "x =  6 and pred(x) =  5\n",
      "x =  7 and pred(x) =  6\n",
      "x =  8 and pred(x) =  7\n",
      "x =  9 and pred(x) =  8\n"
     ]
    }
   ],
   "source": [
    "# @title Computing Function pred(n) = n - 1 if n > 0 else 0\n",
    "number_of_attempt = 10 # @param {type:\"integer\"}\n",
    "\n",
    "if number_of_attempt < 0:\n",
    "    print(\"Error: n should be positive\")\n",
    "elif number_of_attempt == 0:\n",
    "    print(\"Nothing\")\n",
    "else:\n",
    "    code = compile(\"\"\"\n",
    "    J(0,1,0)\n",
    "    S(2)\n",
    "    J(1,2,0)\n",
    "        S(0)\n",
    "        S(2)\n",
    "    J(0,0,3)\n",
    "    \"\"\")\n",
    "    load(code, 1)\n",
    "    for n in range(number_of_attempt):\n",
    "        print(f\"x = {n:2} and pred(x) = {run(n):2}\")"
   ]
  },
  {
   "cell_type": "code",
   "execution_count": 23,
   "metadata": {
    "colab": {
     "base_uri": "https://localhost:8080/"
    },
    "executionInfo": {
     "elapsed": 266,
     "status": "ok",
     "timestamp": 1701758485515,
     "user": {
      "displayName": "Grygoriy Zholtkevych",
      "userId": "07237219969218717576"
     },
     "user_tz": -120
    },
    "id": "N70vRxto7y0K",
    "outputId": "caf64c78-9eee-4782-8e23-c2630db3a452"
   },
   "outputs": [
    {
     "name": "stdout",
     "output_type": "stream",
     "text": [
      "sub(30, 25) = 5\n"
     ]
    }
   ],
   "source": [
    "# @title Computing Function sub(n, m) = n - m if n > m else 0\n",
    "n = 30 # @param {type:\"integer\"}\n",
    "m = 25 # @param {type:\"integer\"}\n",
    "\n",
    "if n < 0:\n",
    "    print(\"Error: n should be nonnegative\")\n",
    "elif m < 0:\n",
    "    print(\"Error: m should be nonnegative\")\n",
    "else:\n",
    "    code = compile(\"\"\"\n",
    "    C(1,4)\n",
    "    J(3,2,14)\n",
    "        J(5,4,10)\n",
    "        S(5)\n",
    "        J(5,4,9)\n",
    "            S(5)\n",
    "            S(0)\n",
    "        J(0,0,5)\n",
    "        Z(5)\n",
    "        S(3)\n",
    "        C(0,4)\n",
    "        Z(0)\n",
    "    J(0,0,2)\n",
    "    C(4,0)\n",
    "    \"\"\")\n",
    "    load(code, 2)\n",
    "    print(f\"sub({n}, {m}) = {run(n, m)}\")"
   ]
  },
  {
   "cell_type": "markdown",
   "metadata": {
    "id": "NimFsthWXOW8"
   },
   "source": [
    "# Programming Technique"
   ]
  },
  {
   "cell_type": "markdown",
   "metadata": {
    "id": "xxmY6HlLdEGE"
   },
   "source": [
    "## Characteristics of a Program"
   ]
  },
  {
   "cell_type": "code",
   "execution_count": 10,
   "metadata": {
    "executionInfo": {
     "elapsed": 18,
     "status": "ok",
     "timestamp": 1701755870894,
     "user": {
      "displayName": "Grygoriy Zholtkevych",
      "userId": "07237219969218717576"
     },
     "user_tz": -120
    },
    "id": "6Uu0dTmfXUyi"
   },
   "outputs": [],
   "source": [
    "def is_instruction(x):\n",
    "    ok = isinstance(x, tuple)\n",
    "    if not ok:\n",
    "        return False\n",
    "    if len(x) == 2:\n",
    "        return (x[0] == 0 or x[0] == 1) and isinstance(x[1], int) and x[1] >= 0\n",
    "    if len(x) == 3:\n",
    "        return (x[0] == 2 and isinstance(x[1], int) and x[1] >= 0 and\n",
    "                isinstance(x[2], int) and x[2] >= 0)\n",
    "    if len(x) == 4:\n",
    "        return (x[0] == 3 and isinstance(x[1], int) and x[1] >= 0 and\n",
    "                isinstance(x[2], int) and x[2] >= 0 and\n",
    "                isinstance(x[3], int) and x[3] >= 0)\n",
    "    return False\n",
    "\n",
    "def is_program(x):\n",
    "    return isinstance(x, list) and all(map(is_instruction,x))"
   ]
  },
  {
   "cell_type": "code",
   "execution_count": 11,
   "metadata": {
    "executionInfo": {
     "elapsed": 17,
     "status": "ok",
     "timestamp": 1701755870894,
     "user": {
      "displayName": "Grygoriy Zholtkevych",
      "userId": "07237219969218717576"
     },
     "user_tz": -120
    },
    "id": "6ke-aFOeaRXs"
   },
   "outputs": [],
   "source": [
    "def size(x):\n",
    "    ok = is_program(x)\n",
    "    if not ok:\n",
    "        raise ValueError(\"invalid program\")\n",
    "    return len(x)\n",
    "\n",
    "def haddr(x):\n",
    "    ok = is_program(x)\n",
    "    if not ok:\n",
    "        raise ValueError(\"invalid program\")\n",
    "    temp = -1\n",
    "    for i in x:\n",
    "        if len(i) == 2:\n",
    "            temp = max(temp, i[1])\n",
    "        else:\n",
    "            temp = max(temp, i[1], i[2])\n",
    "    return temp if temp >= 0 else None\n",
    "\n",
    "def normalize(P):\n",
    "    ok = is_program(P)\n",
    "    if not ok:\n",
    "        raise ValueError(\"invalid argument\")\n",
    "    if not P:\n",
    "        return P\n",
    "    last_instr = size(P)\n",
    "    normalized_P = []\n",
    "    for i in P:\n",
    "        if 0 <= i[0] <= 2 or 0 < i[3] <= last_instr:\n",
    "            normalized_P.append(i)\n",
    "        else:\n",
    "            normalized_P.append((i[0], i[1], i[2], last_instr + 1))\n",
    "    return normalized_P"
   ]
  },
  {
   "cell_type": "markdown",
   "metadata": {
    "id": "T-RjlERQdSeL"
   },
   "source": [
    "## Concatenation of Programs"
   ]
  },
  {
   "cell_type": "code",
   "execution_count": 12,
   "metadata": {
    "executionInfo": {
     "elapsed": 17,
     "status": "ok",
     "timestamp": 1701755870894,
     "user": {
      "displayName": "Grygoriy Zholtkevych",
      "userId": "07237219969218717576"
     },
     "user_tz": -120
    },
    "id": "IB_DXYpjdYX3"
   },
   "outputs": [],
   "source": [
    "def pipe(P, Q):\n",
    "    ok = is_program(P) and is_program(Q)\n",
    "    if not ok:\n",
    "        raise ValueError(\"invalid argument\")\n",
    "    if not P:\n",
    "        return Q\n",
    "    temp = normalize(P)\n",
    "    off = size(P)\n",
    "    for i in Q:\n",
    "        if 0 <= i[0] <= 2 or i[3] == 0:\n",
    "            temp.append(i)\n",
    "        else:\n",
    "            temp.append((i[0], i[1], i[2], i[3] + off))\n",
    "    return temp"
   ]
  },
  {
   "cell_type": "code",
   "execution_count": 13,
   "metadata": {
    "colab": {
     "base_uri": "https://localhost:8080/"
    },
    "executionInfo": {
     "elapsed": 17,
     "status": "ok",
     "timestamp": 1701755870895,
     "user": {
      "displayName": "Grygoriy Zholtkevych",
      "userId": "07237219969218717576"
     },
     "user_tz": -120
    },
    "id": "wfJihbPlwQ2a",
    "outputId": "cfc4d191-be3f-4ab1-be20-b7a853b1076a"
   },
   "outputs": [
    {
     "name": "stdout",
     "output_type": "stream",
     "text": [
      "first: (0, 0)       \tsecond:              \tconcatenation: (0, 0)\n",
      "first: (1, 1)       \tsecond:              \tconcatenation: (1, 1)\n",
      "first: (2, 2, 3)    \tsecond:              \tconcatenation: (2, 2, 3)\n",
      "first: (3, 4, 5, 0) \tsecond:              \tconcatenation: (3, 4, 5, 5)\n",
      "first:              \tsecond: (3, 4, 5, 0) \tconcatenation: (3, 4, 5, 0)\n",
      "first:              \tsecond: (2, 2, 3)    \tconcatenation: (2, 2, 3)\n",
      "first:              \tsecond: (1, 1)       \tconcatenation: (1, 1)\n",
      "first:              \tsecond: (0, 0)       \tconcatenation: (0, 0)\n"
     ]
    }
   ],
   "source": [
    "text1 = \"Z(0)\\nS(1)\\nC(2,3)\\nJ(4,5,0)\"\n",
    "text2 = \"J(4,5,0)\\nC(2,3)\\nS(1)\\nZ(0)\"\n",
    "code1, code2 = compile(text1), compile(text2)\n",
    "code = pipe(code1, code2)\n",
    "for line in range(size(code1)):\n",
    "    print(f\"first: {str(code1[line]):13}\\tsecond: {13 * ' '}\\t\"\n",
    "          f\"concatenation: {code[line]}\")\n",
    "for line in range(size(code2)):\n",
    "    print(f\"first: {13 * ' '}\\tsecond: {str(code2[line]):13}\\t\"\n",
    "          f\"concatenation: {code[size(code1) + line]}\")\n"
   ]
  },
  {
   "cell_type": "markdown",
   "metadata": {
    "id": "mrd6d2m0i-su"
   },
   "source": [
    "## Relocation of Program"
   ]
  },
  {
   "cell_type": "code",
   "execution_count": 14,
   "metadata": {
    "executionInfo": {
     "elapsed": 17,
     "status": "ok",
     "timestamp": 1701755870896,
     "user": {
      "displayName": "Grygoriy Zholtkevych",
      "userId": "07237219969218717576"
     },
     "user_tz": -120
    },
    "id": "D9vtaZrnjBcr"
   },
   "outputs": [],
   "source": [
    "def reloc(P, alloc):\n",
    "    ok = is_program(P)\n",
    "    if not ok:\n",
    "        raise ValueError(\"invalid program\")\n",
    "    ok = isinstance(alloc, tuple) and len(alloc) == haddr(P) + 1\n",
    "    if not ok:\n",
    "        raise ValueError(\"invalid allocation\")\n",
    "    temp = []\n",
    "    for i in P:\n",
    "        if i[0] == 0 or i[0] == 1:\n",
    "            temp.append((i[0], alloc[i[1]]))\n",
    "            continue\n",
    "        if i[0] == 2:\n",
    "            temp.append((2, alloc[i[1]], alloc[i[2]]))\n",
    "            continue\n",
    "        # i[0] == 3\n",
    "        temp.append((3, alloc[i[1]], alloc[i[2]], i[3]))\n",
    "    return temp"
   ]
  },
  {
   "cell_type": "code",
   "execution_count": 15,
   "metadata": {
    "colab": {
     "base_uri": "https://localhost:8080/"
    },
    "executionInfo": {
     "elapsed": 16,
     "status": "ok",
     "timestamp": 1701755870896,
     "user": {
      "displayName": "Grygoriy Zholtkevych",
      "userId": "07237219969218717576"
     },
     "user_tz": -120
    },
    "id": "QVC6DcVCprhJ",
    "outputId": "77994dec-a3ba-45e4-ba17-a4a3264a8e19"
   },
   "outputs": [
    {
     "name": "stdout",
     "output_type": "stream",
     "text": [
      "instruction before relocation: (0, 0)       \tinstruction after relocation: (0, 6)       \n",
      "instruction before relocation: (1, 1)       \tinstruction after relocation: (1, 7)       \n",
      "instruction before relocation: (2, 2, 3)    \tinstruction after relocation: (2, 8, 9)    \n",
      "instruction before relocation: (3, 4, 5, 5) \tinstruction after relocation: (3, 10, 11, 5)\n",
      "instruction before relocation: (3, 4, 5, 0) \tinstruction after relocation: (3, 10, 11, 0)\n",
      "instruction before relocation: (2, 2, 3)    \tinstruction after relocation: (2, 8, 9)    \n",
      "instruction before relocation: (1, 1)       \tinstruction after relocation: (1, 7)       \n",
      "instruction before relocation: (0, 0)       \tinstruction after relocation: (0, 6)       \n"
     ]
    }
   ],
   "source": [
    "new_code = reloc(code, (6, 7, 8, 9, 10, 11))\n",
    "for line in range(size(code)):\n",
    "    print(f\"{'instruction before relocation: ' + str(code[line]):44}\\t\"\n",
    "          f\"{'instruction after relocation: ' + str(new_code[line]):43}\")"
   ]
  }
 ],
 "metadata": {
  "colab": {
   "provenance": [],
   "toc_visible": true
  },
  "kernelspec": {
   "display_name": "Python 3 (ipykernel)",
   "language": "python",
   "name": "python3"
  },
  "language_info": {
   "codemirror_mode": {
    "name": "ipython",
    "version": 3
   },
   "file_extension": ".py",
   "mimetype": "text/x-python",
   "name": "python",
   "nbconvert_exporter": "python",
   "pygments_lexer": "ipython3",
   "version": "3.7.11"
  }
 },
 "nbformat": 4,
 "nbformat_minor": 1
}
