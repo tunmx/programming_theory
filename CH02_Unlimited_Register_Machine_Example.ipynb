{
 "cells": [
  {
   "cell_type": "markdown",
   "metadata": {},
   "source": [
    "# CH02: Unlimited Register Machine"
   ]
  },
  {
   "cell_type": "markdown",
   "metadata": {},
   "source": [
    "**Student**: Jingyu Yan"
   ]
  },
  {
   "cell_type": "markdown",
   "metadata": {},
   "source": [
    "I implemented a URM (Unlimited Register Machine) simulator in Python to verify if my instructions are correct, but it is simple and might have some bugs."
   ]
  },
  {
   "cell_type": "markdown",
   "metadata": {},
   "source": [
    "## Load URM Class"
   ]
  },
  {
   "cell_type": "markdown",
   "metadata": {},
   "source": [
    "Load the URM class from the urm_simulation.py file."
   ]
  },
  {
   "cell_type": "code",
   "execution_count": null,
   "metadata": {},
   "outputs": [],
   "source": [
    "# %load urm_simulation.py\n",
    "\"\"\"\n",
    "Created by Jingyu Yan on 2023/11/25.\n",
    "\"\"\"\n",
    "\n",
    "import copy\n",
    "\n",
    "\n",
    "class URM(object):\n",
    "    \"\"\"\n",
    "    Implementation scheme for simulating an Unlimited Register Machine,\n",
    "    realizing the computational logic of four types of instructions: zero, successor, copy, and jump.\n",
    "    \"\"\"\n",
    "\n",
    "    @staticmethod\n",
    "    def zero(registers, n):\n",
    "        \"\"\"\n",
    "        Set the value of register number n to 0.\n",
    "        \"\"\"\n",
    "        registers[n] = 0\n",
    "        return registers\n",
    "\n",
    "    @staticmethod\n",
    "    def successor(registers, n):\n",
    "        \"\"\"\n",
    "        Increment the value of register number n.\n",
    "        \"\"\"\n",
    "        registers[n] += 1\n",
    "        return registers\n",
    "\n",
    "    @staticmethod\n",
    "    def copy(registers, j, k):\n",
    "        \"\"\"\n",
    "        Copy the value of register number j to register number k.\n",
    "        \"\"\"\n",
    "        registers[k] = registers[j]\n",
    "        return registers\n",
    "\n",
    "    @staticmethod\n",
    "    def jump(registers, m, n, q, current_line):\n",
    "        \"\"\"\n",
    "        Jump to line 'q' if values in registers 'm' and 'n' are equal, else go to the next line.\n",
    "        \"\"\"\n",
    "        if registers[m] == registers[n]:\n",
    "            return q - 1  # Adjust for zero-based indexing\n",
    "        else:\n",
    "            return current_line + 1\n",
    "\n",
    "    def __init__(self, instructions, initial_registers, ):\n",
    "        \"\"\"\n",
    "        Initialize a URM (Unlimited Register Machine) model, requiring input of an instruction set and registers.\n",
    "        :param instructions: Instruction set, constructed and passed in from outside.\n",
    "        :param initial_registers: Registers, constructed and passed in from outside.\n",
    "        \"\"\"\n",
    "        self.instructions = instructions\n",
    "        self.initial_registers = initial_registers\n",
    "        self.instructions.append(('END',))  # Include an exit instruction by default.\n",
    "        for v in self.initial_registers:\n",
    "            assert v >= 0, \"Input must be a natural number\"\n",
    "\n",
    "    def forward(self, safety_count=1000):\n",
    "        \"\"\"\n",
    "        Execute simulated URM (Unlimited Register Machine) operations;\n",
    "        this is only a simulation and cannot achieve 'infinity'\n",
    "        :param safety_count: Set a safe maximum number of computations to prevent the program from falling into an infinite loop (to protect my device).\n",
    "        :return: Return all computation steps and description of instructions.\n",
    "        \"\"\"\n",
    "        registers = self.initial_registers\n",
    "\n",
    "        current_line = 0\n",
    "        count = 0\n",
    "        while current_line < len(self.instructions):\n",
    "            assert count < safety_count, \"The number of cycles exceeded the safe number.\"\n",
    "\n",
    "            # Adjust current_line to align with the external indexing starting from 1.\n",
    "            instruction = self.instructions[current_line]\n",
    "            op = instruction[0]\n",
    "\n",
    "            # Construct a description of the current instruction.\n",
    "            instruction_str = f\"{current_line + 1}: {op}\" + \"(\" + \", \".join(map(str, instruction[1:])) + \")\"\n",
    "\n",
    "            if op == 'Z':\n",
    "                registers = self.zero(registers, instruction[1])\n",
    "                current_line += 1\n",
    "            elif op == 'S':\n",
    "                registers = self.successor(registers, instruction[1])\n",
    "                current_line += 1\n",
    "            elif op == 'C':\n",
    "                registers = self.copy(registers, instruction[1], instruction[2])\n",
    "                current_line += 1\n",
    "            elif op == 'J':\n",
    "                jump_result = self.jump(registers, instruction[1], instruction[2], instruction[3], current_line)\n",
    "                if jump_result == -1:  # If the result of the jump is -1, then terminate the program.\n",
    "                    break\n",
    "                else:\n",
    "                    current_line = jump_result\n",
    "            elif op == 'END':\n",
    "                break  # Terminate the program.\n",
    "            count += 1\n",
    "\n",
    "            # Use a generator to return the state of the registers and the current instruction.\n",
    "            yield copy.deepcopy(registers), instruction_str\n",
    "\n",
    "    def __call__(self, *args, **kwargs):\n",
    "        \"\"\"\n",
    "        Forward\n",
    "        \"\"\"\n",
    "        return self.forward(*args, **kwargs)\n",
    "\n",
    "\n",
    "def urm_op(func):\n",
    "    \"\"\"\n",
    "    Decorator to convert the function to op.\n",
    "    \"\"\"\n",
    "    def wrapper(*args):\n",
    "        function_name = func.__name__\n",
    "        return (function_name, *args)\n",
    "\n",
    "    return wrapper\n",
    "\n",
    "\n",
    "@urm_op\n",
    "def C():\n",
    "    pass\n",
    "\n",
    "\n",
    "@urm_op\n",
    "def J():\n",
    "    pass\n",
    "\n",
    "\n",
    "@urm_op\n",
    "def Z():\n",
    "    pass\n",
    "\n",
    "\n",
    "@urm_op\n",
    "def S():\n",
    "    pass\n",
    "\n",
    "\n",
    "_END = \"END\"  # op: end (private)\n"
   ]
  },
  {
   "cell_type": "markdown",
   "metadata": {},
   "source": [
    "### Example: sum(x, y) = x + y"
   ]
  },
  {
   "cell_type": "markdown",
   "metadata": {},
   "source": [
    "Use URM instructions to verify whether the sum(x, y) = x + y function is correct."
   ]
  },
  {
   "cell_type": "code",
   "execution_count": 6,
   "metadata": {},
   "outputs": [],
   "source": [
    "def add_x_y_show(x, y):\n",
    "    instructions = [\n",
    "        C(2, 0),       # copy R2 to R0\n",
    "        Z(2),          # set R2 to zero\n",
    "        J(1, 2, 0),    # if R1 == R2 then break\n",
    "        S(0),          # R0++\n",
    "        S(2),          # R2++\n",
    "        J(3, 3, 3),    # into loop\n",
    "    ]\n",
    "    # request 4 registers and initialize each one to zero\n",
    "    num_of_registers = 4\n",
    "    R = [0 for _ in range(num_of_registers)]\n",
    "    R[1] = x  # set R1 = x\n",
    "    R[2] = y  # set R2 = y\n",
    "    print(R)\n",
    "    # Create a URM model\n",
    "    urm = URM(instructions=instructions, initial_registers=R)\n",
    "    # exec, set safety_count = 100 \n",
    "    # Since this is only a simulation, it is necessary to set this safety value \n",
    "    # to prevent infinite loops during the debugging process\n",
    "    result_registers = urm(safety_count=100)\n",
    "    steps = list(result_registers)\n",
    "    # Print each step of the calculation process\n",
    "    for step, command in steps:\n",
    "        print(f\"{step} - {command}\")\n",
    "\n",
    "    print(\"Result of sum({}, {}) = {}\".format(x, y, steps[-1][0][0]))"
   ]
  },
  {
   "cell_type": "markdown",
   "metadata": {},
   "source": [
    "Run sum(3, 2):"
   ]
  },
  {
   "cell_type": "code",
   "execution_count": 7,
   "metadata": {},
   "outputs": [
    {
     "name": "stdout",
     "output_type": "stream",
     "text": [
      "[0, 3, 2, 0]\n",
      "[2, 3, 2, 0] - 1: C(2, 0)\n",
      "[2, 3, 0, 0] - 2: Z(2)\n",
      "[2, 3, 0, 0] - 3: J(1, 2, 0)\n",
      "[3, 3, 0, 0] - 4: S(0)\n",
      "[3, 3, 1, 0] - 5: S(2)\n",
      "[3, 3, 1, 0] - 6: J(3, 3, 3)\n",
      "[3, 3, 1, 0] - 3: J(1, 2, 0)\n",
      "[4, 3, 1, 0] - 4: S(0)\n",
      "[4, 3, 2, 0] - 5: S(2)\n",
      "[4, 3, 2, 0] - 6: J(3, 3, 3)\n",
      "[4, 3, 2, 0] - 3: J(1, 2, 0)\n",
      "[5, 3, 2, 0] - 4: S(0)\n",
      "[5, 3, 3, 0] - 5: S(2)\n",
      "[5, 3, 3, 0] - 6: J(3, 3, 3)\n",
      "Result of sum(3, 2) = 5\n"
     ]
    }
   ],
   "source": [
    "x = 3\n",
    "y = 2\n",
    "add_x_y_show(x, y)"
   ]
  },
  {
   "cell_type": "markdown",
   "metadata": {},
   "source": [
    "### Example: double(x) = 2x"
   ]
  },
  {
   "cell_type": "markdown",
   "metadata": {},
   "source": [
    "Verify again: whether the function double(x) = 2x is correct."
   ]
  },
  {
   "cell_type": "code",
   "execution_count": 12,
   "metadata": {},
   "outputs": [
    {
     "name": "stdout",
     "output_type": "stream",
     "text": [
      "[0, 6, 0, 0]\n",
      "[0, 6, 6, 0] 1: C(1, 2)\n",
      "[0, 6, 6, 0] 2: J(2, 0, 0)\n",
      "[1, 6, 6, 0] 3: S(0)\n",
      "[2, 6, 6, 0] 4: S(0)\n",
      "[2, 6, 7, 0] 5: S(2)\n",
      "[2, 6, 7, 0] 6: J(2, 2, 2)\n",
      "[2, 6, 7, 0] 2: J(2, 0, 0)\n",
      "[3, 6, 7, 0] 3: S(0)\n",
      "[4, 6, 7, 0] 4: S(0)\n",
      "[4, 6, 8, 0] 5: S(2)\n",
      "[4, 6, 8, 0] 6: J(2, 2, 2)\n",
      "[4, 6, 8, 0] 2: J(2, 0, 0)\n",
      "[5, 6, 8, 0] 3: S(0)\n",
      "[6, 6, 8, 0] 4: S(0)\n",
      "[6, 6, 9, 0] 5: S(2)\n",
      "[6, 6, 9, 0] 6: J(2, 2, 2)\n",
      "[6, 6, 9, 0] 2: J(2, 0, 0)\n",
      "[7, 6, 9, 0] 3: S(0)\n",
      "[8, 6, 9, 0] 4: S(0)\n",
      "[8, 6, 10, 0] 5: S(2)\n",
      "[8, 6, 10, 0] 6: J(2, 2, 2)\n",
      "[8, 6, 10, 0] 2: J(2, 0, 0)\n",
      "[9, 6, 10, 0] 3: S(0)\n",
      "[10, 6, 10, 0] 4: S(0)\n",
      "[10, 6, 11, 0] 5: S(2)\n",
      "[10, 6, 11, 0] 6: J(2, 2, 2)\n",
      "[10, 6, 11, 0] 2: J(2, 0, 0)\n",
      "[11, 6, 11, 0] 3: S(0)\n",
      "[12, 6, 11, 0] 4: S(0)\n",
      "[12, 6, 12, 0] 5: S(2)\n",
      "[12, 6, 12, 0] 6: J(2, 2, 2)\n",
      "Result of double(6) = 12\n"
     ]
    }
   ],
   "source": [
    "def double_show(x):\n",
    "    instructions = [\n",
    "        C(1, 2),        # copy R1 to R3\n",
    "        J(2, 0, 0),     # if R3 == R0 then jump to 6\n",
    "        S(0),           # R0++\n",
    "        S(0),           # R0++\n",
    "        S(2),           # R3++\n",
    "        J(2, 2, 2),     # into loop\n",
    "    ]\n",
    "    registers_num = 4\n",
    "    initial_registers = [0 for _ in range(registers_num)]\n",
    "    initial_registers[1] = x  # put the x in R1\n",
    "    print(initial_registers)\n",
    "    urm = URM(instructions, initial_registers)\n",
    "    # run \n",
    "    result_registers = urm(safety_count=100)\n",
    "    steps = list(result_registers)\n",
    "    for step, command in steps:\n",
    "            print(step, command)\n",
    "    print(\"Result of double({}) = {}\".format(x, steps[-1][0][0]))\n",
    "    \n",
    "# Run double(6):\n",
    "double_show(6)"
   ]
  },
  {
   "cell_type": "markdown",
   "metadata": {},
   "source": [
    "### Example: fibb(0) = 0, fibb(1) = 1, and fibb(a + 2) = fbb(a) + fibb(a + 1) for any natural a"
   ]
  },
  {
   "cell_type": "markdown",
   "metadata": {},
   "source": [
    "Verify that the Fibonacci function is correct:"
   ]
  },
  {
   "cell_type": "code",
   "execution_count": 13,
   "metadata": {},
   "outputs": [],
   "source": [
    "def fibb_urm(x):\n",
    "    instructions = [\n",
    "        J(1, 0, 0),  # 1. if R1 == 0 then fibb(0) = 0\n",
    "        S(0),  # 2. set R0 = 2\n",
    "        J(1, 0, 0),  # 3. if R1 = 1 then fibb(1) = 1\n",
    "        S(2),  # 4. set R2 = 1\n",
    "\n",
    "        J(1, 2, 0),  # 5. loop_1 if R1 == R2 then jump to the end\n",
    "\n",
    "        S(2),  # 6. set k++\n",
    "        C(0, 4),  # 7. set fibb(k-1) to R4\n",
    "        Z(0),  # 8. set R0 to 0\n",
    "        Z(5),  # 9. set R5 to 0\n",
    "\n",
    "        C(4, 0),  # 10. copy R4 to 0\n",
    "        J(5, 3, 15),  # 11. if R5 == R3 then jump to 15\n",
    "        S(0),  # 12. set R0++\n",
    "        S(5),  # 13. set R5++\n",
    "        J(1, 1, 11),  # 14. do while\n",
    "        C(4, 3),  # 15. copy fibb(k-1) for the current k to fibb(k-2) for the next k(k++)\n",
    "\n",
    "        J(2, 2, 5),  # 16 do while\n",
    "    ]\n",
    "    \n",
    "    num_of_registers = 6\n",
    "    R = [0 for _ in range(num_of_registers)]\n",
    "    R[1] = x  # set R1 = x\n",
    "    # copy the initial register\n",
    "    R_init = copy.deepcopy(R)\n",
    "    urm = URM(instructions=instructions, initial_registers=R)\n",
    "    # Using a URM simulator to calculate fibb(x) numbers involves a large amount of computation, \n",
    "    # thus a larger safety_count needs to be set to prevent premature termination.\n",
    "    safety_count = 10000\n",
    "    # run\n",
    "    steps_command = urm(safety_count=safety_count)\n",
    "    \n",
    "    return R_init, steps_command"
   ]
  },
  {
   "cell_type": "markdown",
   "metadata": {},
   "source": [
    "Display the URM simulation process of the Fibonacci sequence for x=5"
   ]
  },
  {
   "cell_type": "code",
   "execution_count": 16,
   "metadata": {
    "scrolled": false
   },
   "outputs": [
    {
     "name": "stdout",
     "output_type": "stream",
     "text": [
      "[0, 7, 0, 0, 0, 0]\n",
      "[0, 7, 0, 0, 0, 0] 1: J(1, 0, 0)\n",
      "[1, 7, 0, 0, 0, 0] 2: S(0)\n",
      "[1, 7, 0, 0, 0, 0] 3: J(1, 0, 0)\n",
      "[1, 7, 1, 0, 0, 0] 4: S(2)\n",
      "[1, 7, 1, 0, 0, 0] 5: J(1, 2, 0)\n",
      "[1, 7, 2, 0, 0, 0] 6: S(2)\n",
      "[1, 7, 2, 0, 1, 0] 7: C(0, 4)\n",
      "[0, 7, 2, 0, 1, 0] 8: Z(0)\n",
      "[0, 7, 2, 0, 1, 0] 9: Z(5)\n",
      "[1, 7, 2, 0, 1, 0] 10: C(4, 0)\n",
      "[1, 7, 2, 0, 1, 0] 11: J(5, 3, 15)\n",
      "[1, 7, 2, 1, 1, 0] 15: C(4, 3)\n",
      "[1, 7, 2, 1, 1, 0] 16: J(2, 2, 5)\n",
      "[1, 7, 2, 1, 1, 0] 5: J(1, 2, 0)\n",
      "[1, 7, 3, 1, 1, 0] 6: S(2)\n",
      "[1, 7, 3, 1, 1, 0] 7: C(0, 4)\n",
      "[0, 7, 3, 1, 1, 0] 8: Z(0)\n",
      "[0, 7, 3, 1, 1, 0] 9: Z(5)\n",
      "[1, 7, 3, 1, 1, 0] 10: C(4, 0)\n",
      "[1, 7, 3, 1, 1, 0] 11: J(5, 3, 15)\n",
      "[2, 7, 3, 1, 1, 0] 12: S(0)\n",
      "[2, 7, 3, 1, 1, 1] 13: S(5)\n",
      "[2, 7, 3, 1, 1, 1] 14: J(1, 1, 11)\n",
      "[2, 7, 3, 1, 1, 1] 11: J(5, 3, 15)\n",
      "[2, 7, 3, 1, 1, 1] 15: C(4, 3)\n",
      "[2, 7, 3, 1, 1, 1] 16: J(2, 2, 5)\n",
      "[2, 7, 3, 1, 1, 1] 5: J(1, 2, 0)\n",
      "[2, 7, 4, 1, 1, 1] 6: S(2)\n",
      "[2, 7, 4, 1, 2, 1] 7: C(0, 4)\n",
      "[0, 7, 4, 1, 2, 1] 8: Z(0)\n",
      "[0, 7, 4, 1, 2, 0] 9: Z(5)\n",
      "[2, 7, 4, 1, 2, 0] 10: C(4, 0)\n",
      "[2, 7, 4, 1, 2, 0] 11: J(5, 3, 15)\n",
      "[3, 7, 4, 1, 2, 0] 12: S(0)\n",
      "[3, 7, 4, 1, 2, 1] 13: S(5)\n",
      "[3, 7, 4, 1, 2, 1] 14: J(1, 1, 11)\n",
      "[3, 7, 4, 1, 2, 1] 11: J(5, 3, 15)\n",
      "[3, 7, 4, 2, 2, 1] 15: C(4, 3)\n",
      "[3, 7, 4, 2, 2, 1] 16: J(2, 2, 5)\n",
      "[3, 7, 4, 2, 2, 1] 5: J(1, 2, 0)\n",
      "[3, 7, 5, 2, 2, 1] 6: S(2)\n",
      "[3, 7, 5, 2, 3, 1] 7: C(0, 4)\n",
      "[0, 7, 5, 2, 3, 1] 8: Z(0)\n",
      "[0, 7, 5, 2, 3, 0] 9: Z(5)\n",
      "[3, 7, 5, 2, 3, 0] 10: C(4, 0)\n",
      "[3, 7, 5, 2, 3, 0] 11: J(5, 3, 15)\n",
      "[4, 7, 5, 2, 3, 0] 12: S(0)\n",
      "[4, 7, 5, 2, 3, 1] 13: S(5)\n",
      "[4, 7, 5, 2, 3, 1] 14: J(1, 1, 11)\n",
      "[4, 7, 5, 2, 3, 1] 11: J(5, 3, 15)\n",
      "[5, 7, 5, 2, 3, 1] 12: S(0)\n",
      "[5, 7, 5, 2, 3, 2] 13: S(5)\n",
      "[5, 7, 5, 2, 3, 2] 14: J(1, 1, 11)\n",
      "[5, 7, 5, 2, 3, 2] 11: J(5, 3, 15)\n",
      "[5, 7, 5, 3, 3, 2] 15: C(4, 3)\n",
      "[5, 7, 5, 3, 3, 2] 16: J(2, 2, 5)\n",
      "[5, 7, 5, 3, 3, 2] 5: J(1, 2, 0)\n",
      "[5, 7, 6, 3, 3, 2] 6: S(2)\n",
      "[5, 7, 6, 3, 5, 2] 7: C(0, 4)\n",
      "[0, 7, 6, 3, 5, 2] 8: Z(0)\n",
      "[0, 7, 6, 3, 5, 0] 9: Z(5)\n",
      "[5, 7, 6, 3, 5, 0] 10: C(4, 0)\n",
      "[5, 7, 6, 3, 5, 0] 11: J(5, 3, 15)\n",
      "[6, 7, 6, 3, 5, 0] 12: S(0)\n",
      "[6, 7, 6, 3, 5, 1] 13: S(5)\n",
      "[6, 7, 6, 3, 5, 1] 14: J(1, 1, 11)\n",
      "[6, 7, 6, 3, 5, 1] 11: J(5, 3, 15)\n",
      "[7, 7, 6, 3, 5, 1] 12: S(0)\n",
      "[7, 7, 6, 3, 5, 2] 13: S(5)\n",
      "[7, 7, 6, 3, 5, 2] 14: J(1, 1, 11)\n",
      "[7, 7, 6, 3, 5, 2] 11: J(5, 3, 15)\n",
      "[8, 7, 6, 3, 5, 2] 12: S(0)\n",
      "[8, 7, 6, 3, 5, 3] 13: S(5)\n",
      "[8, 7, 6, 3, 5, 3] 14: J(1, 1, 11)\n",
      "[8, 7, 6, 3, 5, 3] 11: J(5, 3, 15)\n",
      "[8, 7, 6, 5, 5, 3] 15: C(4, 3)\n",
      "[8, 7, 6, 5, 5, 3] 16: J(2, 2, 5)\n",
      "[8, 7, 6, 5, 5, 3] 5: J(1, 2, 0)\n",
      "[8, 7, 7, 5, 5, 3] 6: S(2)\n",
      "[8, 7, 7, 5, 8, 3] 7: C(0, 4)\n",
      "[0, 7, 7, 5, 8, 3] 8: Z(0)\n",
      "[0, 7, 7, 5, 8, 0] 9: Z(5)\n",
      "[8, 7, 7, 5, 8, 0] 10: C(4, 0)\n",
      "[8, 7, 7, 5, 8, 0] 11: J(5, 3, 15)\n",
      "[9, 7, 7, 5, 8, 0] 12: S(0)\n",
      "[9, 7, 7, 5, 8, 1] 13: S(5)\n",
      "[9, 7, 7, 5, 8, 1] 14: J(1, 1, 11)\n",
      "[9, 7, 7, 5, 8, 1] 11: J(5, 3, 15)\n",
      "[10, 7, 7, 5, 8, 1] 12: S(0)\n",
      "[10, 7, 7, 5, 8, 2] 13: S(5)\n",
      "[10, 7, 7, 5, 8, 2] 14: J(1, 1, 11)\n",
      "[10, 7, 7, 5, 8, 2] 11: J(5, 3, 15)\n",
      "[11, 7, 7, 5, 8, 2] 12: S(0)\n",
      "[11, 7, 7, 5, 8, 3] 13: S(5)\n",
      "[11, 7, 7, 5, 8, 3] 14: J(1, 1, 11)\n",
      "[11, 7, 7, 5, 8, 3] 11: J(5, 3, 15)\n",
      "[12, 7, 7, 5, 8, 3] 12: S(0)\n",
      "[12, 7, 7, 5, 8, 4] 13: S(5)\n",
      "[12, 7, 7, 5, 8, 4] 14: J(1, 1, 11)\n",
      "[12, 7, 7, 5, 8, 4] 11: J(5, 3, 15)\n",
      "[13, 7, 7, 5, 8, 4] 12: S(0)\n",
      "[13, 7, 7, 5, 8, 5] 13: S(5)\n",
      "[13, 7, 7, 5, 8, 5] 14: J(1, 1, 11)\n",
      "[13, 7, 7, 5, 8, 5] 11: J(5, 3, 15)\n",
      "[13, 7, 7, 8, 8, 5] 15: C(4, 3)\n",
      "[13, 7, 7, 8, 8, 5] 16: J(2, 2, 5)\n",
      "Result of ffib(7) = 13\n"
     ]
    }
   ],
   "source": [
    "x = 7\n",
    "R_init, results = fibb_urm(x)\n",
    "print(R_init)\n",
    "value = -1\n",
    "for step, command in results:\n",
    "    value = step[0]\n",
    "    print(step, command)\n",
    "print(\"Result of ffib({}) = {}\".format(x,value))"
   ]
  },
  {
   "cell_type": "markdown",
   "metadata": {},
   "source": [
    "Verify the results of the URM simulation for fibb(x) from 0 to 10:"
   ]
  },
  {
   "cell_type": "code",
   "execution_count": 17,
   "metadata": {},
   "outputs": [
    {
     "name": "stdout",
     "output_type": "stream",
     "text": [
      "Result of ffib_urm(0) = 0\n",
      "Result of ffib_urm(1) = 1\n",
      "Result of ffib_urm(2) = 1\n",
      "Result of ffib_urm(3) = 2\n",
      "Result of ffib_urm(4) = 3\n",
      "Result of ffib_urm(5) = 5\n",
      "Result of ffib_urm(6) = 8\n",
      "Result of ffib_urm(7) = 13\n",
      "Result of ffib_urm(8) = 21\n",
      "Result of ffib_urm(9) = 34\n",
      "Result of ffib_urm(10) = 55\n"
     ]
    }
   ],
   "source": [
    "x_set = [n for n in range(11)]\n",
    "for x in x_set:\n",
    "    _, results = fibb_urm(x)\n",
    "    value = 0\n",
    "    for step, command in results:\n",
    "        value = step[0]\n",
    "    print(\"Result of ffib_urm({}) = {}\".format(x,value))"
   ]
  },
  {
   "cell_type": "markdown",
   "metadata": {},
   "source": [
    "Implement a Python function for verification."
   ]
  },
  {
   "cell_type": "code",
   "execution_count": 18,
   "metadata": {},
   "outputs": [
    {
     "name": "stdout",
     "output_type": "stream",
     "text": [
      "fibb(0) = 0\n",
      "fibb(1) = 1\n",
      "fibb(2) = 1\n",
      "fibb(3) = 2\n",
      "fibb(4) = 3\n",
      "fibb(5) = 5\n",
      "fibb(6) = 8\n",
      "fibb(7) = 13\n",
      "fibb(8) = 21\n",
      "fibb(9) = 34\n",
      "fibb(10) = 55\n"
     ]
    }
   ],
   "source": [
    "def fibonacci_recursive(n):\n",
    "    if n <= 1:\n",
    "        return n\n",
    "    else:\n",
    "        return fibonacci_recursive(n - 1) + fibonacci_recursive(n - 2)\n",
    "\n",
    "# Use x_set\n",
    "for i in x_set:\n",
    "    x = fibonacci_recursive(i)\n",
    "    print(f'fibb({i}) = {x}')"
   ]
  },
  {
   "cell_type": "markdown",
   "metadata": {},
   "source": [
    "### Example: pred(x) = x - 1"
   ]
  },
  {
   "cell_type": "code",
   "execution_count": 20,
   "metadata": {},
   "outputs": [
    {
     "name": "stdout",
     "output_type": "stream",
     "text": [
      "[0, 5, 0, 0]\n",
      "[0, 5, 0, 0] 1: J(0, 1, 0)\n",
      "[0, 5, 1, 0] 2: S(2)\n",
      "[0, 5, 1, 0] 3: J(1, 2, 0)\n",
      "[1, 5, 1, 0] 4: S(0)\n",
      "[1, 5, 2, 0] 5: S(2)\n",
      "[1, 5, 2, 0] 6: J(0, 0, 3)\n",
      "[1, 5, 2, 0] 3: J(1, 2, 0)\n",
      "[2, 5, 2, 0] 4: S(0)\n",
      "[2, 5, 3, 0] 5: S(2)\n",
      "[2, 5, 3, 0] 6: J(0, 0, 3)\n",
      "[2, 5, 3, 0] 3: J(1, 2, 0)\n",
      "[3, 5, 3, 0] 4: S(0)\n",
      "[3, 5, 4, 0] 5: S(2)\n",
      "[3, 5, 4, 0] 6: J(0, 0, 3)\n",
      "[3, 5, 4, 0] 3: J(1, 2, 0)\n",
      "[4, 5, 4, 0] 4: S(0)\n",
      "[4, 5, 5, 0] 5: S(2)\n",
      "[4, 5, 5, 0] 6: J(0, 0, 3)\n",
      "Result of pred(5) = 4\n"
     ]
    }
   ],
   "source": [
    "x = 5\n",
    "instructions = [\n",
    "    J(0, 1, 0),\n",
    "    S(2,),\n",
    "    J(1, 2, 0),\n",
    "    S(0),\n",
    "    S(2),\n",
    "    J(0, 0, 3)\n",
    "]\n",
    "registers_num = 4\n",
    "initial_registers = [0 for _ in range(registers_num)]\n",
    "initial_registers[1] = x  # put the x in R1\n",
    "print(initial_registers)\n",
    "urm = URM(instructions, initial_registers)\n",
    "# run \n",
    "result_registers = urm(safety_count=1000)\n",
    "steps = list(result_registers)\n",
    "for step, command in steps:\n",
    "        print(step, command)\n",
    "print(\"Result of pred({}) = {}\".format(x, steps[-1][0][0]))"
   ]
  },
  {
   "cell_type": "code",
   "execution_count": null,
   "metadata": {},
   "outputs": [],
   "source": []
  },
  {
   "cell_type": "code",
   "execution_count": null,
   "metadata": {},
   "outputs": [],
   "source": []
  }
 ],
 "metadata": {
  "kernelspec": {
   "display_name": "Python 3 (ipykernel)",
   "language": "python",
   "name": "python3"
  },
  "language_info": {
   "codemirror_mode": {
    "name": "ipython",
    "version": 3
   },
   "file_extension": ".py",
   "mimetype": "text/x-python",
   "name": "python",
   "nbconvert_exporter": "python",
   "pygments_lexer": "ipython3",
   "version": "3.7.11"
  }
 },
 "nbformat": 4,
 "nbformat_minor": 2
}
