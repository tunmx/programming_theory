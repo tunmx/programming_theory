{
 "cells": [
  {
   "cell_type": "markdown",
   "metadata": {
    "id": "A4FIw_NUWqof"
   },
   "source": [
    "<H1><b>Unlimited Register Machine</b></H1>"
   ]
  },
  {
   "cell_type": "markdown",
   "metadata": {
    "id": "RuOx--NUXpYu"
   },
   "source": [
    "# Machine"
   ]
  },
  {
   "cell_type": "code",
   "execution_count": null,
   "metadata": {
    "id": "_IHLAr4oXnnl"
   },
   "outputs": [],
   "source": [
    "control = None  # refers to a URM-program\n",
    "memory  = None  # refers to the used memory\n",
    "arity   = None  # refers to the input size"
   ]
  },
  {
   "cell_type": "markdown",
   "metadata": {
    "id": "jbEOwXCpW7fY"
   },
   "source": [
    "# Instructions"
   ]
  },
  {
   "cell_type": "code",
   "execution_count": null,
   "metadata": {
    "id": "Ugv7o7bcNc2O"
   },
   "outputs": [],
   "source": [
    "def Z(operand, line):\n",
    "    # Z instruction\n",
    "    global memory\n",
    "    memory[operand] = 0\n",
    "    return line + 1\n",
    "\n",
    "\n",
    "def S(operand, line):\n",
    "    # S instruction\n",
    "    global memory\n",
    "    memory[operand] += 1\n",
    "    return line + 1\n",
    "\n",
    "\n",
    "def C(operand1, operand2, line):\n",
    "    # C instruction\n",
    "    global memory\n",
    "    memory[operand2] = memory[operand1]\n",
    "    return line + 1\n",
    "\n",
    "\n",
    "def J(operand1, operand2, operand3, line):\n",
    "    # J instruction\n",
    "    global memory\n",
    "    if memory[operand1] == memory[operand2]:\n",
    "        return operand3\n",
    "    else:\n",
    "        return line + 1"
   ]
  },
  {
   "cell_type": "markdown",
   "metadata": {
    "id": "ODFnLDKiUeCx"
   },
   "source": [
    "# Program Compiling"
   ]
  },
  {
   "cell_type": "code",
   "execution_count": null,
   "metadata": {
    "id": "B_MLp3y8Q9y3"
   },
   "outputs": [],
   "source": [
    "def compile(text):\n",
    "    ok = isinstance(text, str)\n",
    "    if not ok:\n",
    "        raise ValueError(\"invalid program\")\n",
    "    def parse_line(line):\n",
    "        cmd, _, line = line.partition('(')\n",
    "        if cmd == 'Z' or cmd == 'S':\n",
    "            operand, _, line = line.partition(')')\n",
    "            try:\n",
    "                operand = int(operand)\n",
    "            except ValueError:\n",
    "                return None\n",
    "            return ((0 if cmd == 'Z' else 1, operand) if\n",
    "                    operand >= 0 else None)\n",
    "        elif cmd == 'C':\n",
    "            try:\n",
    "                operand, _, line = line.partition(',')\n",
    "                operand1 = int(operand)\n",
    "                operand, _, line = line.partition(')')\n",
    "                operand2 = int(operand)\n",
    "            except ValueError:\n",
    "                return None\n",
    "            return ((2, operand1, operand2) if\n",
    "                    operand1 >= 0 and operand2 >= 0 else\n",
    "                    None)\n",
    "        elif cmd == 'J':\n",
    "            try:\n",
    "                operand, _, line = line.partition(',')\n",
    "                operand1 = int(operand)\n",
    "                operand, _, line = line.partition(',')\n",
    "                operand2 = int(operand)\n",
    "                operand, _, line = line.partition(')')\n",
    "                operand3 = int(operand)\n",
    "            except ValueError:\n",
    "                return None\n",
    "            return ((3, operand1, operand2, operand3) if\n",
    "                    operand1 >= 0 and operand2 >= 0 and operand3 >= 0 else\n",
    "                    None)\n",
    "        else:  # unrecognized instruction\n",
    "            return None\n",
    "    # main function\n",
    "    lines = text.split('\\n')\n",
    "    lines = [line.strip() for line in lines]\n",
    "    lines = [line for line in lines if line]\n",
    "    program = [parse_line(line) for line in lines]\n",
    "    errors = [None for item in program if item is None]\n",
    "    if errors:\n",
    "        raise ValueError(\"invalid program\")\n",
    "    return program"
   ]
  },
  {
   "cell_type": "markdown",
   "metadata": {
    "id": "O7mHAgHzXOu8"
   },
   "source": [
    "# Program Loading"
   ]
  },
  {
   "cell_type": "code",
   "execution_count": null,
   "metadata": {
    "id": "2Zi27iCFXWsw"
   },
   "outputs": [],
   "source": [
    "def load(code, input_size):\n",
    "    global memory, control, arity\n",
    "    ok = isinstance(code, list)\n",
    "    if not ok:\n",
    "        raise ValueError(\"invalid code\")\n",
    "    ok = all(map(isinstance, code, len(code) * [tuple]))\n",
    "    if not ok:\n",
    "        raise ValueError(\"invalid code\")\n",
    "    ok = isinstance(input_size, int) and input_size >= 1\n",
    "    if not ok:\n",
    "        raise ValueError(\"invalid code\")\n",
    "    high_memory_address = input_size\n",
    "    for item in code:\n",
    "        if (len(item) == 2 and\n",
    "            (item[0] == 0 or item[0] == 1) and\n",
    "            isinstance(item[1], int) and item[1] >= 0):\n",
    "            high_memory_address = max(high_memory_address, item[1])\n",
    "        elif (len(item) == 3 and item[0] == 2 and\n",
    "              isinstance(item[1], int) and item[1] >= 0 and\n",
    "              isinstance(item[2], int) and item[2] >= 0):\n",
    "            high_memory_address = max(high_memory_address, item[1], item[2])\n",
    "        elif (len(item) == 4 and item[0] == 3 and\n",
    "              isinstance(item[1], int) and item[1] >= 0 and\n",
    "              isinstance(item[2], int) and item[2] >= 0 and\n",
    "              isinstance(item[3], int) and item[3] >= 0):\n",
    "            high_memory_address = max(high_memory_address, item[1], item[2])\n",
    "        else:\n",
    "            raise ValueError(\"invalid code\")\n",
    "    memory = dict([(n, 0) for n in range(high_memory_address + 1)])\n",
    "    control = code\n",
    "    arity = input_size\n"
   ]
  },
  {
   "cell_type": "markdown",
   "metadata": {
    "id": "iA-_HgZgianf"
   },
   "source": [
    "# Program Performing"
   ]
  },
  {
   "cell_type": "code",
   "execution_count": null,
   "metadata": {
    "id": "I1qVyatlifKh"
   },
   "outputs": [],
   "source": [
    "def run(*args):\n",
    "    global memory, control, arity\n",
    "    if control is None:\n",
    "        raise ValueError(\"the program for running is not loaded\")\n",
    "    ok = len(args) == arity\n",
    "    if not ok:\n",
    "        raise ValueError(\"invalid number of arguments\")\n",
    "    ok = all(map(lambda x: isinstance(x, int) and x >= 0, args))\n",
    "    if not ok:\n",
    "        raise ValueError(\"invalid arguments\")\n",
    "    for k in memory:\n",
    "        memory[k] = args[k - 1] if 1 <= k <= arity else 0\n",
    "    ic = 1\n",
    "    while ic >= 1:\n",
    "        try:\n",
    "            item = control[ic - 1]\n",
    "            if item[0] == 0:\n",
    "                ic = Z(item[1], ic)\n",
    "            elif item[0] == 1:\n",
    "                ic = S(item[1], ic)\n",
    "            elif item[0] == 2:\n",
    "                ic = C(item[1], item[2], ic)\n",
    "            else:  # item[0] == 3\n",
    "                ic = J(item[1], item[2], item[3], ic)\n",
    "        except IndexError:\n",
    "            break\n",
    "    return memory[0]"
   ]
  },
  {
   "cell_type": "code",
   "execution_count": null,
   "metadata": {
    "colab": {
     "base_uri": "https://localhost:8080/"
    },
    "id": "SGYEBczLqF-8",
    "outputId": "dcf578a3-fac8-4e68-b50c-835545ed949d"
   },
   "outputs": [
    {
     "name": "stdout",
     "output_type": "stream",
     "text": [
      "12 + 7 = 19\n"
     ]
    }
   ],
   "source": [
    "# @title Computing the sum of n and m\n",
    "n = 12 # @param {type:\"integer\"}\n",
    "m = 7 # @param {type:\"integer\"}\n",
    "\n",
    "code = compile(\"\"\"\n",
    "C(2,0)\n",
    "Z(2)\n",
    "J(1,2,0)\n",
    "    S(0)\n",
    "    S(2)\n",
    "J(0,0,3)\n",
    "\"\"\")\n",
    "load(code, 2)\n",
    "print(f\"{n} + {m} = {run(n, m)}\")"
   ]
  },
  {
   "cell_type": "code",
   "execution_count": null,
   "metadata": {
    "colab": {
     "base_uri": "https://localhost:8080/"
    },
    "id": "VVXpGNVuFGlj",
    "outputId": "812f4362-c518-4e79-dae3-6c8dac544ef9"
   },
   "outputs": [
    {
     "name": "stdout",
     "output_type": "stream",
     "text": [
      "fibb( 0) =   0\n",
      "fibb( 1) =   1\n",
      "fibb( 2) =   1\n",
      "fibb( 3) =   2\n",
      "fibb( 4) =   3\n",
      "fibb( 5) =   5\n",
      "fibb( 6) =   8\n",
      "fibb( 7) =  13\n",
      "fibb( 8) =  21\n",
      "fibb( 9) =  34\n",
      "fibb(10) =  55\n",
      "fibb(11) =  89\n",
      "fibb(12) = 144\n",
      "fibb(13) = 233\n",
      "fibb(14) = 377\n"
     ]
    }
   ],
   "source": [
    "# @title Computing Fibonacci Series\n",
    "length_of_series = 15 # @param {type:\"integer\"}\n",
    "\n",
    "code = compile(\"\"\"\n",
    "J(1,0,0)\n",
    "S(0)\n",
    "J(1,0,0)\n",
    "C(0,5)\n",
    "S(3)\n",
    "S(3)\n",
    "    J(2,4,11)\n",
    "        S(0)\n",
    "        S(4)\n",
    "    J(0,0,7)\n",
    "    C(5,2)\n",
    "    C(0,5)\n",
    "    Z(4)\n",
    "    J(1,3,0)\n",
    "J(0,0,6)\n",
    "\"\"\")\n",
    "load(code,1)\n",
    "for k in range(length_of_series):\n",
    "    print(f\"fibb({k:2}) = {run(k):3}\")"
   ]
  }
 ],
 "metadata": {
  "colab": {
   "provenance": []
  },
  "kernelspec": {
   "display_name": "Python 3 (ipykernel)",
   "language": "python",
   "name": "python3"
  },
  "language_info": {
   "codemirror_mode": {
    "name": "ipython",
    "version": 3
   },
   "file_extension": ".py",
   "mimetype": "text/x-python",
   "name": "python",
   "nbconvert_exporter": "python",
   "pygments_lexer": "ipython3",
   "version": "3.7.11"
  }
 },
 "nbformat": 4,
 "nbformat_minor": 1
}
